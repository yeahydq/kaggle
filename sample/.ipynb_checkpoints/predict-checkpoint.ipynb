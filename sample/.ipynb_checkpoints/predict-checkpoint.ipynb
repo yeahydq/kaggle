{
 "cells": [
  {
   "cell_type": "code",
   "execution_count": 48,
   "metadata": {},
   "outputs": [
    {
     "data": {
      "text/html": [
       "<div>\n",
       "<style scoped>\n",
       "    .dataframe tbody tr th:only-of-type {\n",
       "        vertical-align: middle;\n",
       "    }\n",
       "\n",
       "    .dataframe tbody tr th {\n",
       "        vertical-align: top;\n",
       "    }\n",
       "\n",
       "    .dataframe thead th {\n",
       "        text-align: right;\n",
       "    }\n",
       "</style>\n",
       "<table border=\"1\" class=\"dataframe\">\n",
       "  <thead>\n",
       "    <tr style=\"text-align: right;\">\n",
       "      <th></th>\n",
       "      <th>PassengerId</th>\n",
       "      <th>Survived</th>\n",
       "      <th>Pclass</th>\n",
       "      <th>Age</th>\n",
       "      <th>SibSp</th>\n",
       "      <th>Parch</th>\n",
       "      <th>Fare</th>\n",
       "    </tr>\n",
       "  </thead>\n",
       "  <tbody>\n",
       "    <tr>\n",
       "      <th>count</th>\n",
       "      <td>891.000000</td>\n",
       "      <td>891.000000</td>\n",
       "      <td>891.000000</td>\n",
       "      <td>714.000000</td>\n",
       "      <td>891.000000</td>\n",
       "      <td>891.000000</td>\n",
       "      <td>891.000000</td>\n",
       "    </tr>\n",
       "    <tr>\n",
       "      <th>mean</th>\n",
       "      <td>446.000000</td>\n",
       "      <td>0.383838</td>\n",
       "      <td>2.308642</td>\n",
       "      <td>29.699118</td>\n",
       "      <td>0.523008</td>\n",
       "      <td>0.381594</td>\n",
       "      <td>32.204208</td>\n",
       "    </tr>\n",
       "    <tr>\n",
       "      <th>std</th>\n",
       "      <td>257.353842</td>\n",
       "      <td>0.486592</td>\n",
       "      <td>0.836071</td>\n",
       "      <td>14.526497</td>\n",
       "      <td>1.102743</td>\n",
       "      <td>0.806057</td>\n",
       "      <td>49.693429</td>\n",
       "    </tr>\n",
       "    <tr>\n",
       "      <th>min</th>\n",
       "      <td>1.000000</td>\n",
       "      <td>0.000000</td>\n",
       "      <td>1.000000</td>\n",
       "      <td>0.420000</td>\n",
       "      <td>0.000000</td>\n",
       "      <td>0.000000</td>\n",
       "      <td>0.000000</td>\n",
       "    </tr>\n",
       "    <tr>\n",
       "      <th>25%</th>\n",
       "      <td>223.500000</td>\n",
       "      <td>0.000000</td>\n",
       "      <td>2.000000</td>\n",
       "      <td>20.125000</td>\n",
       "      <td>0.000000</td>\n",
       "      <td>0.000000</td>\n",
       "      <td>7.910400</td>\n",
       "    </tr>\n",
       "    <tr>\n",
       "      <th>50%</th>\n",
       "      <td>446.000000</td>\n",
       "      <td>0.000000</td>\n",
       "      <td>3.000000</td>\n",
       "      <td>28.000000</td>\n",
       "      <td>0.000000</td>\n",
       "      <td>0.000000</td>\n",
       "      <td>14.454200</td>\n",
       "    </tr>\n",
       "    <tr>\n",
       "      <th>75%</th>\n",
       "      <td>668.500000</td>\n",
       "      <td>1.000000</td>\n",
       "      <td>3.000000</td>\n",
       "      <td>38.000000</td>\n",
       "      <td>1.000000</td>\n",
       "      <td>0.000000</td>\n",
       "      <td>31.000000</td>\n",
       "    </tr>\n",
       "    <tr>\n",
       "      <th>max</th>\n",
       "      <td>891.000000</td>\n",
       "      <td>1.000000</td>\n",
       "      <td>3.000000</td>\n",
       "      <td>80.000000</td>\n",
       "      <td>8.000000</td>\n",
       "      <td>6.000000</td>\n",
       "      <td>512.329200</td>\n",
       "    </tr>\n",
       "  </tbody>\n",
       "</table>\n",
       "</div>"
      ],
      "text/plain": [
       "       PassengerId    Survived      Pclass         Age       SibSp  \\\n",
       "count   891.000000  891.000000  891.000000  714.000000  891.000000   \n",
       "mean    446.000000    0.383838    2.308642   29.699118    0.523008   \n",
       "std     257.353842    0.486592    0.836071   14.526497    1.102743   \n",
       "min       1.000000    0.000000    1.000000    0.420000    0.000000   \n",
       "25%     223.500000    0.000000    2.000000   20.125000    0.000000   \n",
       "50%     446.000000    0.000000    3.000000   28.000000    0.000000   \n",
       "75%     668.500000    1.000000    3.000000   38.000000    1.000000   \n",
       "max     891.000000    1.000000    3.000000   80.000000    8.000000   \n",
       "\n",
       "            Parch        Fare  \n",
       "count  891.000000  891.000000  \n",
       "mean     0.381594   32.204208  \n",
       "std      0.806057   49.693429  \n",
       "min      0.000000    0.000000  \n",
       "25%      0.000000    7.910400  \n",
       "50%      0.000000   14.454200  \n",
       "75%      0.000000   31.000000  \n",
       "max      6.000000  512.329200  "
      ]
     },
     "execution_count": 48,
     "metadata": {},
     "output_type": "execute_result"
    }
   ],
   "source": [
    "import pandas as pd\n",
    "import re\n",
    "df_train = pd.read_csv(\"input/train.csv\")\n",
    "df_test = pd.read_csv(\"input/test.csv\")\n",
    "df_train.describe()"
   ]
  },
  {
   "cell_type": "code",
   "execution_count": 49,
   "metadata": {},
   "outputs": [
    {
     "data": {
      "text/html": [
       "<div>\n",
       "<style scoped>\n",
       "    .dataframe tbody tr th:only-of-type {\n",
       "        vertical-align: middle;\n",
       "    }\n",
       "\n",
       "    .dataframe tbody tr th {\n",
       "        vertical-align: top;\n",
       "    }\n",
       "\n",
       "    .dataframe thead th {\n",
       "        text-align: right;\n",
       "    }\n",
       "</style>\n",
       "<table border=\"1\" class=\"dataframe\">\n",
       "  <thead>\n",
       "    <tr style=\"text-align: right;\">\n",
       "      <th></th>\n",
       "      <th>PassengerId</th>\n",
       "      <th>Survived</th>\n",
       "      <th>Pclass</th>\n",
       "      <th>Name</th>\n",
       "      <th>Sex</th>\n",
       "      <th>Age</th>\n",
       "      <th>SibSp</th>\n",
       "      <th>Parch</th>\n",
       "      <th>Ticket</th>\n",
       "      <th>Fare</th>\n",
       "      <th>Cabin</th>\n",
       "      <th>Embarked</th>\n",
       "    </tr>\n",
       "  </thead>\n",
       "  <tbody>\n",
       "    <tr>\n",
       "      <th>0</th>\n",
       "      <td>1</td>\n",
       "      <td>0</td>\n",
       "      <td>3</td>\n",
       "      <td>Braund, Mr. Owen Harris</td>\n",
       "      <td>male</td>\n",
       "      <td>22.0</td>\n",
       "      <td>1</td>\n",
       "      <td>0</td>\n",
       "      <td>A/5 21171</td>\n",
       "      <td>7.2500</td>\n",
       "      <td>NaN</td>\n",
       "      <td>S</td>\n",
       "    </tr>\n",
       "    <tr>\n",
       "      <th>1</th>\n",
       "      <td>2</td>\n",
       "      <td>1</td>\n",
       "      <td>1</td>\n",
       "      <td>Cumings, Mrs. John Bradley (Florence Briggs Th...</td>\n",
       "      <td>female</td>\n",
       "      <td>38.0</td>\n",
       "      <td>1</td>\n",
       "      <td>0</td>\n",
       "      <td>PC 17599</td>\n",
       "      <td>71.2833</td>\n",
       "      <td>C85</td>\n",
       "      <td>C</td>\n",
       "    </tr>\n",
       "    <tr>\n",
       "      <th>2</th>\n",
       "      <td>3</td>\n",
       "      <td>1</td>\n",
       "      <td>3</td>\n",
       "      <td>Heikkinen, Miss. Laina</td>\n",
       "      <td>female</td>\n",
       "      <td>26.0</td>\n",
       "      <td>0</td>\n",
       "      <td>0</td>\n",
       "      <td>STON/O2. 3101282</td>\n",
       "      <td>7.9250</td>\n",
       "      <td>NaN</td>\n",
       "      <td>S</td>\n",
       "    </tr>\n",
       "    <tr>\n",
       "      <th>3</th>\n",
       "      <td>4</td>\n",
       "      <td>1</td>\n",
       "      <td>1</td>\n",
       "      <td>Futrelle, Mrs. Jacques Heath (Lily May Peel)</td>\n",
       "      <td>female</td>\n",
       "      <td>35.0</td>\n",
       "      <td>1</td>\n",
       "      <td>0</td>\n",
       "      <td>113803</td>\n",
       "      <td>53.1000</td>\n",
       "      <td>C123</td>\n",
       "      <td>S</td>\n",
       "    </tr>\n",
       "    <tr>\n",
       "      <th>4</th>\n",
       "      <td>5</td>\n",
       "      <td>0</td>\n",
       "      <td>3</td>\n",
       "      <td>Allen, Mr. William Henry</td>\n",
       "      <td>male</td>\n",
       "      <td>35.0</td>\n",
       "      <td>0</td>\n",
       "      <td>0</td>\n",
       "      <td>373450</td>\n",
       "      <td>8.0500</td>\n",
       "      <td>NaN</td>\n",
       "      <td>S</td>\n",
       "    </tr>\n",
       "  </tbody>\n",
       "</table>\n",
       "</div>"
      ],
      "text/plain": [
       "   PassengerId  Survived  Pclass  \\\n",
       "0            1         0       3   \n",
       "1            2         1       1   \n",
       "2            3         1       3   \n",
       "3            4         1       1   \n",
       "4            5         0       3   \n",
       "\n",
       "                                                Name     Sex   Age  SibSp  \\\n",
       "0                            Braund, Mr. Owen Harris    male  22.0      1   \n",
       "1  Cumings, Mrs. John Bradley (Florence Briggs Th...  female  38.0      1   \n",
       "2                             Heikkinen, Miss. Laina  female  26.0      0   \n",
       "3       Futrelle, Mrs. Jacques Heath (Lily May Peel)  female  35.0      1   \n",
       "4                           Allen, Mr. William Henry    male  35.0      0   \n",
       "\n",
       "   Parch            Ticket     Fare Cabin Embarked  \n",
       "0      0         A/5 21171   7.2500   NaN        S  \n",
       "1      0          PC 17599  71.2833   C85        C  \n",
       "2      0  STON/O2. 3101282   7.9250   NaN        S  \n",
       "3      0            113803  53.1000  C123        S  \n",
       "4      0            373450   8.0500   NaN        S  "
      ]
     },
     "execution_count": 49,
     "metadata": {},
     "output_type": "execute_result"
    }
   ],
   "source": [
    "df_train.head()"
   ]
  },
  {
   "cell_type": "code",
   "execution_count": 50,
   "metadata": {},
   "outputs": [
    {
     "name": "stdout",
     "output_type": "stream",
     "text": [
      "       PassengerId    Survived      Pclass         Age       SibSp  \\\n",
      "count   891.000000  891.000000  891.000000  891.000000  891.000000   \n",
      "mean    446.000000    0.383838    2.308642   29.361582    0.523008   \n",
      "std     257.353842    0.486592    0.836071   13.019697    1.102743   \n",
      "min       1.000000    0.000000    1.000000    0.420000    0.000000   \n",
      "25%     223.500000    0.000000    2.000000   22.000000    0.000000   \n",
      "50%     446.000000    0.000000    3.000000   28.000000    0.000000   \n",
      "75%     668.500000    1.000000    3.000000   35.000000    1.000000   \n",
      "max     891.000000    1.000000    3.000000   80.000000    8.000000   \n",
      "\n",
      "            Parch        Fare  \n",
      "count  891.000000  891.000000  \n",
      "mean     0.381594   32.204208  \n",
      "std      0.806057   49.693429  \n",
      "min      0.000000    0.000000  \n",
      "25%      0.000000    7.910400  \n",
      "50%      0.000000   14.454200  \n",
      "75%      0.000000   31.000000  \n",
      "max      6.000000  512.329200  \n"
     ]
    }
   ],
   "source": [
    "df_train['Age'] = df_train['Age'].fillna(df_train['Age'].median())\n",
    "print df_train.describe()"
   ]
  },
  {
   "cell_type": "code",
   "execution_count": 125,
   "metadata": {},
   "outputs": [
    {
     "data": {
      "text/plain": [
       "array([ 22.  ,  38.  ,  26.  ,  35.  ,  28.  ,  54.  ,   2.  ,  27.  ,\n",
       "        14.  ,   4.  ,  58.  ,  20.  ,  39.  ,  55.  ,  31.  ,  34.  ,\n",
       "        15.  ,   8.  ,  19.  ,  40.  ,  66.  ,  42.  ,  21.  ,  18.  ,\n",
       "         3.  ,   7.  ,  49.  ,  29.  ,  65.  ,  28.5 ,   5.  ,  11.  ,\n",
       "        45.  ,  17.  ,  32.  ,  16.  ,  25.  ,   0.83,  30.  ,  33.  ,\n",
       "        23.  ,  24.  ,  46.  ,  59.  ,  71.  ,  37.  ,  47.  ,  14.5 ,\n",
       "        70.5 ,  32.5 ,  12.  ,   9.  ,  36.5 ,  51.  ,  55.5 ,  40.5 ,\n",
       "        44.  ,   1.  ,  61.  ,  56.  ,  50.  ,  36.  ,  45.5 ,  20.5 ,\n",
       "        62.  ,  41.  ,  52.  ,  63.  ,  23.5 ,   0.92,  43.  ,  60.  ,\n",
       "        10.  ,  64.  ,  13.  ,  48.  ,   0.75,  53.  ,  57.  ,  80.  ,\n",
       "        70.  ,  24.5 ,   6.  ,   0.67,  30.5 ,   0.42,  34.5 ,  74.  ])"
      ]
     },
     "execution_count": 125,
     "metadata": {},
     "output_type": "execute_result"
    }
   ],
   "source": [
    "# 每个feature的意义，feature的类型,比较有用的代码如下\n",
    "df_train['Pclass'].unique()"
   ]
  },
  {
   "cell_type": "code",
   "execution_count": 137,
   "metadata": {},
   "outputs": [
    {
     "data": {
      "text/html": [
       "<div>\n",
       "<style scoped>\n",
       "    .dataframe tbody tr th:only-of-type {\n",
       "        vertical-align: middle;\n",
       "    }\n",
       "\n",
       "    .dataframe tbody tr th {\n",
       "        vertical-align: top;\n",
       "    }\n",
       "\n",
       "    .dataframe thead th {\n",
       "        text-align: right;\n",
       "    }\n",
       "</style>\n",
       "<table border=\"1\" class=\"dataframe\">\n",
       "  <thead>\n",
       "    <tr style=\"text-align: right;\">\n",
       "      <th></th>\n",
       "      <th>PassengerId</th>\n",
       "      <th>Cabin</th>\n",
       "    </tr>\n",
       "  </thead>\n",
       "  <tbody>\n",
       "    <tr>\n",
       "      <th>0</th>\n",
       "      <td>1</td>\n",
       "      <td>NaN</td>\n",
       "    </tr>\n",
       "    <tr>\n",
       "      <th>2</th>\n",
       "      <td>3</td>\n",
       "      <td>NaN</td>\n",
       "    </tr>\n",
       "    <tr>\n",
       "      <th>4</th>\n",
       "      <td>5</td>\n",
       "      <td>NaN</td>\n",
       "    </tr>\n",
       "    <tr>\n",
       "      <th>5</th>\n",
       "      <td>6</td>\n",
       "      <td>NaN</td>\n",
       "    </tr>\n",
       "    <tr>\n",
       "      <th>7</th>\n",
       "      <td>8</td>\n",
       "      <td>NaN</td>\n",
       "    </tr>\n",
       "  </tbody>\n",
       "</table>\n",
       "</div>"
      ],
      "text/plain": [
       "   PassengerId Cabin\n",
       "0            1   NaN\n",
       "2            3   NaN\n",
       "4            5   NaN\n",
       "5            6   NaN\n",
       "7            8   NaN"
      ]
     },
     "execution_count": 137,
     "metadata": {},
     "output_type": "execute_result"
    }
   ],
   "source": [
    "# 看是否存在missing value\n",
    "df_train.loc[df_train.Cabin.isnull(),['PassengerId','Cabin']].head()"
   ]
  },
  {
   "cell_type": "code",
   "execution_count": 109,
   "metadata": {},
   "outputs": [
    {
     "data": {
      "text/plain": [
       "<matplotlib.axes._subplots.AxesSubplot at 0x10a62ec10>"
      ]
     },
     "execution_count": 109,
     "metadata": {},
     "output_type": "execute_result"
    },
    {
     "data": {
      "image/png": "[encoded data removed]",
      "text/plain": [
       "<matplotlib.figure.Figure at 0x10a63bfd0>"
      ]
     },
     "metadata": {},
     "output_type": "display_data"
    }
   ],
   "source": [
    "# 每个特征下的数据分布，可以用boxplot或者hist来看\n",
    "%matplotlib inline\n",
    "import matplotlib.pyplot as plt\n",
    "df_train.boxplot(column='Fare', by = 'Pclass')"
   ]
  },
  {
   "cell_type": "code",
   "execution_count": 110,
   "metadata": {},
   "outputs": [
    {
     "data": {
      "text/plain": [
       "Text(0,0.5,u'Count of Passengers')"
      ]
     },
     "execution_count": 110,
     "metadata": {},
     "output_type": "execute_result"
    },
    {
     "data": {
      "image/png": "[encoded data removed]",
      "text/plain": [
       "<matplotlib.figure.Figure at 0x10a5d3d90>"
      ]
     },
     "metadata": {},
     "output_type": "display_data"
    }
   ],
   "source": [
    "plt.hist(df_train['Fare'], bins = 10, range =(df_train['Fare'].min(),df_train['Fare'].max()))\n",
    "plt.title('Fare >distribution')\n",
    "plt.xlabel('Fare')\n",
    "plt.ylabel('Count of Passengers')"
   ]
  },
  {
   "cell_type": "code",
   "execution_count": 117,
   "metadata": {},
   "outputs": [
    {
     "data": {
      "text/plain": [
       "<matplotlib.axes._subplots.AxesSubplot at 0x10b0cc950>"
      ]
     },
     "execution_count": 117,
     "metadata": {},
     "output_type": "execute_result"
    },
    {
     "data": {
      "image/png": "[encoded data removed]",
      "text/plain": [
       "<matplotlib.figure.Figure at 0x10ab1cf10>"
      ]
     },
     "metadata": {},
     "output_type": "display_data"
    }
   ],
   "source": [
    "#如果变量是categorical的，想看distribution，则可以：\n",
    "df_train.Embarked.value_counts().plot(kind='bar', figsize=(6,6))"
   ]
  },
  {
   "cell_type": "code",
   "execution_count": 119,
   "metadata": {},
   "outputs": [
    {
     "data": {
      "text/plain": [
       "<matplotlib.axes._subplots.AxesSubplot at 0x10b597cd0>"
      ]
     },
     "execution_count": 119,
     "metadata": {},
     "output_type": "execute_result"
    },
    {
     "data": {
      "image/png": "[encoded data removed]",
      "text/plain": [
       "<matplotlib.figure.Figure at 0x10a4a7110>"
      ]
     },
     "metadata": {},
     "output_type": "display_data"
    }
   ],
   "source": [
    "# 如果想看几个feature之间的联立情况，则可以用pandas的groupby,\n",
    "temp = pd.crosstab([df_train.Pclass, df_train.Sex], df_train.Survived.astype(bool))\n",
    "temp.plot(kind='bar', stacked=True, color=['red','blue'], grid=False)"
   ]
  },
  {
   "cell_type": "code",
   "execution_count": 51,
   "metadata": {},
   "outputs": [
    {
     "name": "stdout",
     "output_type": "stream",
     "text": [
      "['male' 'female']\n"
     ]
    }
   ],
   "source": [
    "print df_train['Sex'].unique()"
   ]
  },
  {
   "cell_type": "code",
   "execution_count": 52,
   "metadata": {},
   "outputs": [
    {
     "name": "stdout",
     "output_type": "stream",
     "text": [
      "[0 1]\n"
     ]
    }
   ],
   "source": [
    "df_train.loc[df_train['Sex']=='male','Sex'] = 0\n",
    "df_train.loc[df_train['Sex']=='female','Sex'] = 1\n",
    "print df_train['Sex'].unique()"
   ]
  },
  {
   "cell_type": "code",
   "execution_count": 53,
   "metadata": {},
   "outputs": [
    {
     "name": "stdout",
     "output_type": "stream",
     "text": [
      "['S' 'C' 'Q' nan]\n"
     ]
    }
   ],
   "source": [
    "print df_train[\"Embarked\"].unique()"
   ]
  },
  {
   "cell_type": "code",
   "execution_count": 54,
   "metadata": {},
   "outputs": [
    {
     "data": {
      "text/plain": [
       "S      644\n",
       "C      168\n",
       "Q       77\n",
       "NaN      2\n",
       "Name: Embarked, dtype: int64"
      ]
     },
     "execution_count": 54,
     "metadata": {},
     "output_type": "execute_result"
    }
   ],
   "source": [
    "pd.value_counts(df_train['Embarked'],dropna=False)"
   ]
  },
  {
   "cell_type": "code",
   "execution_count": 55,
   "metadata": {},
   "outputs": [
    {
     "name": "stdout",
     "output_type": "stream",
     "text": [
      "['S' 'C' 'Q']\n"
     ]
    }
   ],
   "source": [
    "df_train['Embarked'] = df_train['Embarked'].fillna('S')\n",
    "print df_train[\"Embarked\"].unique()"
   ]
  },
  {
   "cell_type": "code",
   "execution_count": 134,
   "metadata": {},
   "outputs": [
    {
     "data": {
      "text/html": [
       "<div>\n",
       "<style scoped>\n",
       "    .dataframe tbody tr th:only-of-type {\n",
       "        vertical-align: middle;\n",
       "    }\n",
       "\n",
       "    .dataframe tbody tr th {\n",
       "        vertical-align: top;\n",
       "    }\n",
       "\n",
       "    .dataframe thead th {\n",
       "        text-align: right;\n",
       "    }\n",
       "</style>\n",
       "<table border=\"1\" class=\"dataframe\">\n",
       "  <thead>\n",
       "    <tr style=\"text-align: right;\">\n",
       "      <th></th>\n",
       "      <th>0</th>\n",
       "      <th>1</th>\n",
       "      <th>2</th>\n",
       "    </tr>\n",
       "  </thead>\n",
       "  <tbody>\n",
       "    <tr>\n",
       "      <th>0</th>\n",
       "      <td>1</td>\n",
       "      <td>0</td>\n",
       "      <td>0</td>\n",
       "    </tr>\n",
       "    <tr>\n",
       "      <th>1</th>\n",
       "      <td>0</td>\n",
       "      <td>1</td>\n",
       "      <td>0</td>\n",
       "    </tr>\n",
       "    <tr>\n",
       "      <th>2</th>\n",
       "      <td>1</td>\n",
       "      <td>0</td>\n",
       "      <td>0</td>\n",
       "    </tr>\n",
       "  </tbody>\n",
       "</table>\n",
       "</div>"
      ],
      "text/plain": [
       "   0  1  2\n",
       "0  1  0  0\n",
       "1  0  1  0\n",
       "2  1  0  0"
      ]
     },
     "execution_count": 134,
     "metadata": {},
     "output_type": "execute_result"
    }
   ],
   "source": [
    "decodeValue=pd.get_dummies(df_train.Embarked)\n",
    "decodeValue[0:3]"
   ]
  },
  {
   "cell_type": "code",
   "execution_count": 56,
   "metadata": {},
   "outputs": [
    {
     "data": {
      "text/plain": [
       "0    646\n",
       "1    168\n",
       "2     77\n",
       "Name: Embarked, dtype: int64"
      ]
     },
     "execution_count": 56,
     "metadata": {},
     "output_type": "execute_result"
    }
   ],
   "source": [
    "df_train.loc[df_train['Embarked']=='S','Embarked'] = 0\n",
    "df_train.loc[df_train['Embarked']=='C','Embarked'] = 1\n",
    "df_train.loc[df_train['Embarked']=='Q','Embarked'] = 2\n",
    "pd.value_counts(df_train['Embarked'],dropna=False)"
   ]
  },
  {
   "cell_type": "code",
   "execution_count": 57,
   "metadata": {},
   "outputs": [],
   "source": [
    "from sklearn.linear_model import LinearRegression\n",
    "from sklearn.cross_validation import KFold\n",
    "from sklearn.model_selection import StratifiedKFold"
   ]
  },
  {
   "cell_type": "code",
   "execution_count": 58,
   "metadata": {},
   "outputs": [],
   "source": [
    "predictors=['Pclass','Sex','Age','SibSp','Parch','Fare','Embarked']"
   ]
  },
  {
   "cell_type": "code",
   "execution_count": 59,
   "metadata": {},
   "outputs": [
    {
     "name": "stdout",
     "output_type": "stream",
     "text": [
      "(891, 12)\n"
     ]
    }
   ],
   "source": [
    "print(df_train.shape)"
   ]
  },
  {
   "cell_type": "code",
   "execution_count": 60,
   "metadata": {},
   "outputs": [],
   "source": [
    "alg=LinearRegression()\n",
    "kf=KFold(df_train.shape[0],n_folds=3,random_state=1)"
   ]
  },
  {
   "cell_type": "code",
   "execution_count": 61,
   "metadata": {},
   "outputs": [
    {
     "name": "stdout",
     "output_type": "stream",
     "text": [
      "(array([297, 298, 299, 300, 301, 302, 303, 304, 305, 306, 307, 308, 309,\n",
      "       310, 311, 312, 313, 314, 315, 316, 317, 318, 319, 320, 321, 322,\n",
      "       323, 324, 325, 326, 327, 328, 329, 330, 331, 332, 333, 334, 335,\n",
      "       336, 337, 338, 339, 340, 341, 342, 343, 344, 345, 346, 347, 348,\n",
      "       349, 350, 351, 352, 353, 354, 355, 356, 357, 358, 359, 360, 361,\n",
      "       362, 363, 364, 365, 366, 367, 368, 369, 370, 371, 372, 373, 374,\n",
      "       375, 376, 377, 378, 379, 380, 381, 382, 383, 384, 385, 386, 387,\n",
      "       388, 389, 390, 391, 392, 393, 394, 395, 396, 397, 398, 399, 400,\n",
      "       401, 402, 403, 404, 405, 406, 407, 408, 409, 410, 411, 412, 413,\n",
      "       414, 415, 416, 417, 418, 419, 420, 421, 422, 423, 424, 425, 426,\n",
      "       427, 428, 429, 430, 431, 432, 433, 434, 435, 436, 437, 438, 439,\n",
      "       440, 441, 442, 443, 444, 445, 446, 447, 448, 449, 450, 451, 452,\n",
      "       453, 454, 455, 456, 457, 458, 459, 460, 461, 462, 463, 464, 465,\n",
      "       466, 467, 468, 469, 470, 471, 472, 473, 474, 475, 476, 477, 478,\n",
      "       479, 480, 481, 482, 483, 484, 485, 486, 487, 488, 489, 490, 491,\n",
      "       492, 493, 494, 495, 496, 497, 498, 499, 500, 501, 502, 503, 504,\n",
      "       505, 506, 507, 508, 509, 510, 511, 512, 513, 514, 515, 516, 517,\n",
      "       518, 519, 520, 521, 522, 523, 524, 525, 526, 527, 528, 529, 530,\n",
      "       531, 532, 533, 534, 535, 536, 537, 538, 539, 540, 541, 542, 543,\n",
      "       544, 545, 546, 547, 548, 549, 550, 551, 552, 553, 554, 555, 556,\n",
      "       557, 558, 559, 560, 561, 562, 563, 564, 565, 566, 567, 568, 569,\n",
      "       570, 571, 572, 573, 574, 575, 576, 577, 578, 579, 580, 581, 582,\n",
      "       583, 584, 585, 586, 587, 588, 589, 590, 591, 592, 593, 594, 595,\n",
      "       596, 597, 598, 599, 600, 601, 602, 603, 604, 605, 606, 607, 608,\n",
      "       609, 610, 611, 612, 613, 614, 615, 616, 617, 618, 619, 620, 621,\n",
      "       622, 623, 624, 625, 626, 627, 628, 629, 630, 631, 632, 633, 634,\n",
      "       635, 636, 637, 638, 639, 640, 641, 642, 643, 644, 645, 646, 647,\n",
      "       648, 649, 650, 651, 652, 653, 654, 655, 656, 657, 658, 659, 660,\n",
      "       661, 662, 663, 664, 665, 666, 667, 668, 669, 670, 671, 672, 673,\n",
      "       674, 675, 676, 677, 678, 679, 680, 681, 682, 683, 684, 685, 686,\n",
      "       687, 688, 689, 690, 691, 692, 693, 694, 695, 696, 697, 698, 699,\n",
      "       700, 701, 702, 703, 704, 705, 706, 707, 708, 709, 710, 711, 712,\n",
      "       713, 714, 715, 716, 717, 718, 719, 720, 721, 722, 723, 724, 725,\n",
      "       726, 727, 728, 729, 730, 731, 732, 733, 734, 735, 736, 737, 738,\n",
      "       739, 740, 741, 742, 743, 744, 745, 746, 747, 748, 749, 750, 751,\n",
      "       752, 753, 754, 755, 756, 757, 758, 759, 760, 761, 762, 763, 764,\n",
      "       765, 766, 767, 768, 769, 770, 771, 772, 773, 774, 775, 776, 777,\n",
      "       778, 779, 780, 781, 782, 783, 784, 785, 786, 787, 788, 789, 790,\n",
      "       791, 792, 793, 794, 795, 796, 797, 798, 799, 800, 801, 802, 803,\n",
      "       804, 805, 806, 807, 808, 809, 810, 811, 812, 813, 814, 815, 816,\n",
      "       817, 818, 819, 820, 821, 822, 823, 824, 825, 826, 827, 828, 829,\n",
      "       830, 831, 832, 833, 834, 835, 836, 837, 838, 839, 840, 841, 842,\n",
      "       843, 844, 845, 846, 847, 848, 849, 850, 851, 852, 853, 854, 855,\n",
      "       856, 857, 858, 859, 860, 861, 862, 863, 864, 865, 866, 867, 868,\n",
      "       869, 870, 871, 872, 873, 874, 875, 876, 877, 878, 879, 880, 881,\n",
      "       882, 883, 884, 885, 886, 887, 888, 889, 890]), array([  0,   1,   2,   3,   4,   5,   6,   7,   8,   9,  10,  11,  12,\n",
      "        13,  14,  15,  16,  17,  18,  19,  20,  21,  22,  23,  24,  25,\n",
      "        26,  27,  28,  29,  30,  31,  32,  33,  34,  35,  36,  37,  38,\n",
      "        39,  40,  41,  42,  43,  44,  45,  46,  47,  48,  49,  50,  51,\n",
      "        52,  53,  54,  55,  56,  57,  58,  59,  60,  61,  62,  63,  64,\n",
      "        65,  66,  67,  68,  69,  70,  71,  72,  73,  74,  75,  76,  77,\n",
      "        78,  79,  80,  81,  82,  83,  84,  85,  86,  87,  88,  89,  90,\n",
      "        91,  92,  93,  94,  95,  96,  97,  98,  99, 100, 101, 102, 103,\n",
      "       104, 105, 106, 107, 108, 109, 110, 111, 112, 113, 114, 115, 116,\n",
      "       117, 118, 119, 120, 121, 122, 123, 124, 125, 126, 127, 128, 129,\n",
      "       130, 131, 132, 133, 134, 135, 136, 137, 138, 139, 140, 141, 142,\n",
      "       143, 144, 145, 146, 147, 148, 149, 150, 151, 152, 153, 154, 155,\n",
      "       156, 157, 158, 159, 160, 161, 162, 163, 164, 165, 166, 167, 168,\n",
      "       169, 170, 171, 172, 173, 174, 175, 176, 177, 178, 179, 180, 181,\n",
      "       182, 183, 184, 185, 186, 187, 188, 189, 190, 191, 192, 193, 194,\n",
      "       195, 196, 197, 198, 199, 200, 201, 202, 203, 204, 205, 206, 207,\n",
      "       208, 209, 210, 211, 212, 213, 214, 215, 216, 217, 218, 219, 220,\n",
      "       221, 222, 223, 224, 225, 226, 227, 228, 229, 230, 231, 232, 233,\n",
      "       234, 235, 236, 237, 238, 239, 240, 241, 242, 243, 244, 245, 246,\n",
      "       247, 248, 249, 250, 251, 252, 253, 254, 255, 256, 257, 258, 259,\n",
      "       260, 261, 262, 263, 264, 265, 266, 267, 268, 269, 270, 271, 272,\n",
      "       273, 274, 275, 276, 277, 278, 279, 280, 281, 282, 283, 284, 285,\n",
      "       286, 287, 288, 289, 290, 291, 292, 293, 294, 295, 296]))\n",
      "(array([  0,   1,   2,   3,   4,   5,   6,   7,   8,   9,  10,  11,  12,\n",
      "        13,  14,  15,  16,  17,  18,  19,  20,  21,  22,  23,  24,  25,\n",
      "        26,  27,  28,  29,  30,  31,  32,  33,  34,  35,  36,  37,  38,\n",
      "        39,  40,  41,  42,  43,  44,  45,  46,  47,  48,  49,  50,  51,\n",
      "        52,  53,  54,  55,  56,  57,  58,  59,  60,  61,  62,  63,  64,\n",
      "        65,  66,  67,  68,  69,  70,  71,  72,  73,  74,  75,  76,  77,\n",
      "        78,  79,  80,  81,  82,  83,  84,  85,  86,  87,  88,  89,  90,\n",
      "        91,  92,  93,  94,  95,  96,  97,  98,  99, 100, 101, 102, 103,\n",
      "       104, 105, 106, 107, 108, 109, 110, 111, 112, 113, 114, 115, 116,\n",
      "       117, 118, 119, 120, 121, 122, 123, 124, 125, 126, 127, 128, 129,\n",
      "       130, 131, 132, 133, 134, 135, 136, 137, 138, 139, 140, 141, 142,\n",
      "       143, 144, 145, 146, 147, 148, 149, 150, 151, 152, 153, 154, 155,\n",
      "       156, 157, 158, 159, 160, 161, 162, 163, 164, 165, 166, 167, 168,\n",
      "       169, 170, 171, 172, 173, 174, 175, 176, 177, 178, 179, 180, 181,\n",
      "       182, 183, 184, 185, 186, 187, 188, 189, 190, 191, 192, 193, 194,\n",
      "       195, 196, 197, 198, 199, 200, 201, 202, 203, 204, 205, 206, 207,\n",
      "       208, 209, 210, 211, 212, 213, 214, 215, 216, 217, 218, 219, 220,\n",
      "       221, 222, 223, 224, 225, 226, 227, 228, 229, 230, 231, 232, 233,\n",
      "       234, 235, 236, 237, 238, 239, 240, 241, 242, 243, 244, 245, 246,\n",
      "       247, 248, 249, 250, 251, 252, 253, 254, 255, 256, 257, 258, 259,\n",
      "       260, 261, 262, 263, 264, 265, 266, 267, 268, 269, 270, 271, 272,\n",
      "       273, 274, 275, 276, 277, 278, 279, 280, 281, 282, 283, 284, 285,\n",
      "       286, 287, 288, 289, 290, 291, 292, 293, 294, 295, 296, 594, 595,\n",
      "       596, 597, 598, 599, 600, 601, 602, 603, 604, 605, 606, 607, 608,\n",
      "       609, 610, 611, 612, 613, 614, 615, 616, 617, 618, 619, 620, 621,\n",
      "       622, 623, 624, 625, 626, 627, 628, 629, 630, 631, 632, 633, 634,\n",
      "       635, 636, 637, 638, 639, 640, 641, 642, 643, 644, 645, 646, 647,\n",
      "       648, 649, 650, 651, 652, 653, 654, 655, 656, 657, 658, 659, 660,\n",
      "       661, 662, 663, 664, 665, 666, 667, 668, 669, 670, 671, 672, 673,\n",
      "       674, 675, 676, 677, 678, 679, 680, 681, 682, 683, 684, 685, 686,\n",
      "       687, 688, 689, 690, 691, 692, 693, 694, 695, 696, 697, 698, 699,\n",
      "       700, 701, 702, 703, 704, 705, 706, 707, 708, 709, 710, 711, 712,\n",
      "       713, 714, 715, 716, 717, 718, 719, 720, 721, 722, 723, 724, 725,\n",
      "       726, 727, 728, 729, 730, 731, 732, 733, 734, 735, 736, 737, 738,\n",
      "       739, 740, 741, 742, 743, 744, 745, 746, 747, 748, 749, 750, 751,\n",
      "       752, 753, 754, 755, 756, 757, 758, 759, 760, 761, 762, 763, 764,\n",
      "       765, 766, 767, 768, 769, 770, 771, 772, 773, 774, 775, 776, 777,\n",
      "       778, 779, 780, 781, 782, 783, 784, 785, 786, 787, 788, 789, 790,\n",
      "       791, 792, 793, 794, 795, 796, 797, 798, 799, 800, 801, 802, 803,\n",
      "       804, 805, 806, 807, 808, 809, 810, 811, 812, 813, 814, 815, 816,\n",
      "       817, 818, 819, 820, 821, 822, 823, 824, 825, 826, 827, 828, 829,\n",
      "       830, 831, 832, 833, 834, 835, 836, 837, 838, 839, 840, 841, 842,\n",
      "       843, 844, 845, 846, 847, 848, 849, 850, 851, 852, 853, 854, 855,\n",
      "       856, 857, 858, 859, 860, 861, 862, 863, 864, 865, 866, 867, 868,\n",
      "       869, 870, 871, 872, 873, 874, 875, 876, 877, 878, 879, 880, 881,\n",
      "       882, 883, 884, 885, 886, 887, 888, 889, 890]), array([297, 298, 299, 300, 301, 302, 303, 304, 305, 306, 307, 308, 309,\n",
      "       310, 311, 312, 313, 314, 315, 316, 317, 318, 319, 320, 321, 322,\n",
      "       323, 324, 325, 326, 327, 328, 329, 330, 331, 332, 333, 334, 335,\n",
      "       336, 337, 338, 339, 340, 341, 342, 343, 344, 345, 346, 347, 348,\n",
      "       349, 350, 351, 352, 353, 354, 355, 356, 357, 358, 359, 360, 361,\n",
      "       362, 363, 364, 365, 366, 367, 368, 369, 370, 371, 372, 373, 374,\n",
      "       375, 376, 377, 378, 379, 380, 381, 382, 383, 384, 385, 386, 387,\n",
      "       388, 389, 390, 391, 392, 393, 394, 395, 396, 397, 398, 399, 400,\n",
      "       401, 402, 403, 404, 405, 406, 407, 408, 409, 410, 411, 412, 413,\n",
      "       414, 415, 416, 417, 418, 419, 420, 421, 422, 423, 424, 425, 426,\n",
      "       427, 428, 429, 430, 431, 432, 433, 434, 435, 436, 437, 438, 439,\n",
      "       440, 441, 442, 443, 444, 445, 446, 447, 448, 449, 450, 451, 452,\n",
      "       453, 454, 455, 456, 457, 458, 459, 460, 461, 462, 463, 464, 465,\n",
      "       466, 467, 468, 469, 470, 471, 472, 473, 474, 475, 476, 477, 478,\n",
      "       479, 480, 481, 482, 483, 484, 485, 486, 487, 488, 489, 490, 491,\n",
      "       492, 493, 494, 495, 496, 497, 498, 499, 500, 501, 502, 503, 504,\n",
      "       505, 506, 507, 508, 509, 510, 511, 512, 513, 514, 515, 516, 517,\n",
      "       518, 519, 520, 521, 522, 523, 524, 525, 526, 527, 528, 529, 530,\n",
      "       531, 532, 533, 534, 535, 536, 537, 538, 539, 540, 541, 542, 543,\n",
      "       544, 545, 546, 547, 548, 549, 550, 551, 552, 553, 554, 555, 556,\n",
      "       557, 558, 559, 560, 561, 562, 563, 564, 565, 566, 567, 568, 569,\n",
      "       570, 571, 572, 573, 574, 575, 576, 577, 578, 579, 580, 581, 582,\n",
      "       583, 584, 585, 586, 587, 588, 589, 590, 591, 592, 593]))\n",
      "(array([  0,   1,   2,   3,   4,   5,   6,   7,   8,   9,  10,  11,  12,\n",
      "        13,  14,  15,  16,  17,  18,  19,  20,  21,  22,  23,  24,  25,\n",
      "        26,  27,  28,  29,  30,  31,  32,  33,  34,  35,  36,  37,  38,\n",
      "        39,  40,  41,  42,  43,  44,  45,  46,  47,  48,  49,  50,  51,\n",
      "        52,  53,  54,  55,  56,  57,  58,  59,  60,  61,  62,  63,  64,\n",
      "        65,  66,  67,  68,  69,  70,  71,  72,  73,  74,  75,  76,  77,\n",
      "        78,  79,  80,  81,  82,  83,  84,  85,  86,  87,  88,  89,  90,\n",
      "        91,  92,  93,  94,  95,  96,  97,  98,  99, 100, 101, 102, 103,\n",
      "       104, 105, 106, 107, 108, 109, 110, 111, 112, 113, 114, 115, 116,\n",
      "       117, 118, 119, 120, 121, 122, 123, 124, 125, 126, 127, 128, 129,\n",
      "       130, 131, 132, 133, 134, 135, 136, 137, 138, 139, 140, 141, 142,\n",
      "       143, 144, 145, 146, 147, 148, 149, 150, 151, 152, 153, 154, 155,\n",
      "       156, 157, 158, 159, 160, 161, 162, 163, 164, 165, 166, 167, 168,\n",
      "       169, 170, 171, 172, 173, 174, 175, 176, 177, 178, 179, 180, 181,\n",
      "       182, 183, 184, 185, 186, 187, 188, 189, 190, 191, 192, 193, 194,\n",
      "       195, 196, 197, 198, 199, 200, 201, 202, 203, 204, 205, 206, 207,\n",
      "       208, 209, 210, 211, 212, 213, 214, 215, 216, 217, 218, 219, 220,\n",
      "       221, 222, 223, 224, 225, 226, 227, 228, 229, 230, 231, 232, 233,\n",
      "       234, 235, 236, 237, 238, 239, 240, 241, 242, 243, 244, 245, 246,\n",
      "       247, 248, 249, 250, 251, 252, 253, 254, 255, 256, 257, 258, 259,\n",
      "       260, 261, 262, 263, 264, 265, 266, 267, 268, 269, 270, 271, 272,\n",
      "       273, 274, 275, 276, 277, 278, 279, 280, 281, 282, 283, 284, 285,\n",
      "       286, 287, 288, 289, 290, 291, 292, 293, 294, 295, 296, 297, 298,\n",
      "       299, 300, 301, 302, 303, 304, 305, 306, 307, 308, 309, 310, 311,\n",
      "       312, 313, 314, 315, 316, 317, 318, 319, 320, 321, 322, 323, 324,\n",
      "       325, 326, 327, 328, 329, 330, 331, 332, 333, 334, 335, 336, 337,\n",
      "       338, 339, 340, 341, 342, 343, 344, 345, 346, 347, 348, 349, 350,\n",
      "       351, 352, 353, 354, 355, 356, 357, 358, 359, 360, 361, 362, 363,\n",
      "       364, 365, 366, 367, 368, 369, 370, 371, 372, 373, 374, 375, 376,\n",
      "       377, 378, 379, 380, 381, 382, 383, 384, 385, 386, 387, 388, 389,\n",
      "       390, 391, 392, 393, 394, 395, 396, 397, 398, 399, 400, 401, 402,\n",
      "       403, 404, 405, 406, 407, 408, 409, 410, 411, 412, 413, 414, 415,\n",
      "       416, 417, 418, 419, 420, 421, 422, 423, 424, 425, 426, 427, 428,\n",
      "       429, 430, 431, 432, 433, 434, 435, 436, 437, 438, 439, 440, 441,\n",
      "       442, 443, 444, 445, 446, 447, 448, 449, 450, 451, 452, 453, 454,\n",
      "       455, 456, 457, 458, 459, 460, 461, 462, 463, 464, 465, 466, 467,\n",
      "       468, 469, 470, 471, 472, 473, 474, 475, 476, 477, 478, 479, 480,\n",
      "       481, 482, 483, 484, 485, 486, 487, 488, 489, 490, 491, 492, 493,\n",
      "       494, 495, 496, 497, 498, 499, 500, 501, 502, 503, 504, 505, 506,\n",
      "       507, 508, 509, 510, 511, 512, 513, 514, 515, 516, 517, 518, 519,\n",
      "       520, 521, 522, 523, 524, 525, 526, 527, 528, 529, 530, 531, 532,\n",
      "       533, 534, 535, 536, 537, 538, 539, 540, 541, 542, 543, 544, 545,\n",
      "       546, 547, 548, 549, 550, 551, 552, 553, 554, 555, 556, 557, 558,\n",
      "       559, 560, 561, 562, 563, 564, 565, 566, 567, 568, 569, 570, 571,\n",
      "       572, 573, 574, 575, 576, 577, 578, 579, 580, 581, 582, 583, 584,\n",
      "       585, 586, 587, 588, 589, 590, 591, 592, 593]), array([594, 595, 596, 597, 598, 599, 600, 601, 602, 603, 604, 605, 606,\n",
      "       607, 608, 609, 610, 611, 612, 613, 614, 615, 616, 617, 618, 619,\n",
      "       620, 621, 622, 623, 624, 625, 626, 627, 628, 629, 630, 631, 632,\n",
      "       633, 634, 635, 636, 637, 638, 639, 640, 641, 642, 643, 644, 645,\n",
      "       646, 647, 648, 649, 650, 651, 652, 653, 654, 655, 656, 657, 658,\n",
      "       659, 660, 661, 662, 663, 664, 665, 666, 667, 668, 669, 670, 671,\n",
      "       672, 673, 674, 675, 676, 677, 678, 679, 680, 681, 682, 683, 684,\n",
      "       685, 686, 687, 688, 689, 690, 691, 692, 693, 694, 695, 696, 697,\n",
      "       698, 699, 700, 701, 702, 703, 704, 705, 706, 707, 708, 709, 710,\n",
      "       711, 712, 713, 714, 715, 716, 717, 718, 719, 720, 721, 722, 723,\n",
      "       724, 725, 726, 727, 728, 729, 730, 731, 732, 733, 734, 735, 736,\n",
      "       737, 738, 739, 740, 741, 742, 743, 744, 745, 746, 747, 748, 749,\n",
      "       750, 751, 752, 753, 754, 755, 756, 757, 758, 759, 760, 761, 762,\n",
      "       763, 764, 765, 766, 767, 768, 769, 770, 771, 772, 773, 774, 775,\n",
      "       776, 777, 778, 779, 780, 781, 782, 783, 784, 785, 786, 787, 788,\n",
      "       789, 790, 791, 792, 793, 794, 795, 796, 797, 798, 799, 800, 801,\n",
      "       802, 803, 804, 805, 806, 807, 808, 809, 810, 811, 812, 813, 814,\n",
      "       815, 816, 817, 818, 819, 820, 821, 822, 823, 824, 825, 826, 827,\n",
      "       828, 829, 830, 831, 832, 833, 834, 835, 836, 837, 838, 839, 840,\n",
      "       841, 842, 843, 844, 845, 846, 847, 848, 849, 850, 851, 852, 853,\n",
      "       854, 855, 856, 857, 858, 859, 860, 861, 862, 863, 864, 865, 866,\n",
      "       867, 868, 869, 870, 871, 872, 873, 874, 875, 876, 877, 878, 879,\n",
      "       880, 881, 882, 883, 884, 885, 886, 887, 888, 889, 890]))\n"
     ]
    }
   ],
   "source": [
    "for train, test in kf:\n",
    "    print(train,test)"
   ]
  },
  {
   "cell_type": "code",
   "execution_count": 62,
   "metadata": {},
   "outputs": [],
   "source": [
    "skf = StratifiedKFold(n_splits=3, shuffle=False)"
   ]
  },
  {
   "cell_type": "code",
   "execution_count": 63,
   "metadata": {},
   "outputs": [],
   "source": [
    "predictions=[]\n",
    "for train,test in kf:\n",
    "    train_predictors=(df_train[predictors].iloc[train,:])\n",
    "    train_target=df_train['Survived'].iloc[train]\n",
    "    alg.fit(train_predictors,train_target)\n",
    "    test_predictions=alg.predict(df_train[predictors].iloc[test,:])\n",
    "    predictions.append(test_predictions)"
   ]
  },
  {
   "cell_type": "code",
   "execution_count": 82,
   "metadata": {},
   "outputs": [
    {
     "name": "stdout",
     "output_type": "stream",
     "text": [
      "0.261503928171\n"
     ]
    }
   ],
   "source": [
    "import numpy as np\n",
    "predictions_new=np.concatenate(predictions,axis=0)\n",
    "predictions_new[predictions_new>.5]=1\n",
    "predictions_new[predictions_new<=.5]=0\n",
    "accuracy=sum(predictions_new[predictions_new==df_train['Survived']])/ len(predictions_new)\n",
    "print accuracy"
   ]
  },
  {
   "cell_type": "code",
   "execution_count": 66,
   "metadata": {},
   "outputs": [
    {
     "data": {
      "text/plain": [
       "[array([ 0.09218937,  0.88721783,  0.63441057,  0.86406875,  0.06393595,\n",
       "         0.19192583,  0.28213429,  0.1168794 ,  0.63896657,  0.862258  ,\n",
       "         0.71315024,  0.79143039,  0.14427644,  0.02054778,  0.69870672,\n",
       "         0.64370722,  0.16317002,  0.26709815,  0.56260706,  0.66925066,\n",
       "         0.22524468,  0.23496195,  0.7839266 ,  0.42688044,  0.6069716 ,\n",
       "         0.54809446,  0.14702227,  0.28482114,  0.7143485 ,  0.10147991,\n",
       "         0.41053512,  0.91553746,  0.71439184,  0.06440761,  0.41489722,\n",
       "         0.30471716,  0.14702086,  0.13892041,  0.59059209,  0.7012442 ,\n",
       "         0.51726273,  0.75035534,  0.14679723,  0.92830187,  0.76255279,\n",
       "         0.10142818,  0.14792009,  0.71439184,  0.05888638,  0.63230258,\n",
       "         0.04221172,  0.13900428,  0.82647448,  0.73796587,  0.27063546,\n",
       "         0.42688044,  0.82765747,  0.14434284,  0.87691192, -0.01778128,\n",
       "         0.17915705,  0.88061963,  0.27808982,  0.10937186,  0.47480752,\n",
       "         0.10818223,  0.78480921,  0.14959614,  0.52702965,  0.02864798,\n",
       "         0.24651272,  0.47766695,  0.28429382,  0.11366569,  0.06375144,\n",
       "         0.11763047,  0.10147991,  0.10142818,  0.41824223,  0.61146001,\n",
       "         0.13324567,  0.0955857 ,  0.71437926,  0.42298886,  0.8490816 ,\n",
       "         0.46932949,  0.13170819,  0.10142818,  0.7856254 ,  0.12285231,\n",
       "         0.09607215,  0.14434213,  0.280215  ,  0.07728332, -0.06434045,\n",
       "         0.10142818,  0.24217209,  0.49512618,  0.75932972,  0.18895732,\n",
       "         0.62370831,  0.10147991,  0.45584796,  0.07444532, -0.03002096,\n",
       "         0.10147991,  0.661283  ,  0.10152044,  0.04791959,  0.66724657,\n",
       "         0.31958039,  0.69748845,  0.13356438,  0.62426597,  0.72574039,\n",
       "         0.13896235, -0.03546794,  0.21741488,  0.42798725,  0.59953668,\n",
       "         0.20100704,  0.10142818,  0.24094301,  0.76522439,  0.27909888,\n",
       "         0.18972787,  0.19216345,  0.12315703,  0.62802452,  0.01073627,\n",
       "         0.12001706,  0.14461192,  0.47808471,  0.73796587,  0.28316625,\n",
       "         0.3385093 ,  1.0113935 ,  0.3311283 ,  0.16530917,  0.47896139,\n",
       "         0.67754819,  0.65589341,  0.60082057,  0.24070323,  0.3211617 ,\n",
       "         0.27118557,  0.10686949,  0.64429125,  0.22819898,  0.19211369,\n",
       "         0.14406875,  0.9291682 , -0.04586272,  0.04330228,  0.1016756 ,\n",
       "         0.34582121,  0.77866984,  0.09071612,  0.1012227 , -0.24136264,\n",
       "         0.01852522,  0.72413158,  0.11223251,  0.16013906,  0.07434792,\n",
       "         0.20999604,  0.94806114,  0.50627804,  0.43009266,  0.08517557,\n",
       "         0.25080232,  0.15245795,  0.73108586,  0.13896235,  0.32384055,\n",
       "         0.11890498, -0.02385078,  0.87887049,  0.25638608,  0.06128054,\n",
       "         0.28086575,  0.31172773,  0.03977832,  0.32519594,  0.75850137,\n",
       "         0.42201597,  0.67014848,  0.33883043,  0.08914187,  0.05863165,\n",
       "         0.76790241,  0.31530244,  0.63028316,  0.36048851,  0.91133939,\n",
       "         0.79649987,  0.19216345,  0.03181907,  0.71439184,  0.81075067,\n",
       "         0.10094174, -0.24136264,  0.06981339,  0.05329169,  0.15498851,\n",
       "         0.76759826,  0.03574391,  0.15385534,  0.77866424,  0.40943502,\n",
       "         0.12318779,  0.74915047,  0.13383276,  0.25638608,  0.15052006,\n",
       "         0.91062267,  0.62905454,  0.14577357,  0.9593172 ,  0.25722478,\n",
       "         0.16570058,  0.27245418, -0.02176057,  0.10147991,  0.31339304,\n",
       "         0.13312825,  0.31614114,  0.14186681,  0.32065848,  0.49837761,\n",
       "         0.85387854,  0.09616441,  0.10089339,  0.58343084,  0.28936098,\n",
       "         0.62382431,  0.13539699,  0.90299043,  0.31614114,  0.24056121,\n",
       "         0.62518201,  0.67014848,  0.26258082,  0.1338747 ,  0.1363102 ,\n",
       "         0.33024808,  0.63981693,  0.8212358 ,  0.33680558,  0.08183666,\n",
       "         0.10169657,  0.58134198,  0.24777787,  0.04637211,  0.56093622,\n",
       "         0.67219216,  0.97976565,  0.92128727,  0.7969671 ,  0.67262675,\n",
       "         0.19216345,  0.07191451,  0.24737498,  0.37451759,  0.71439184,\n",
       "         0.22508859, -0.00599257,  0.07594515,  0.75434792,  0.87802385,\n",
       "         0.4283901 ,  0.1201969 ,  0.72301167,  0.43143342,  0.71439184,\n",
       "         0.70576037,  0.53270466,  0.27145939,  0.13638986,  0.54592227,\n",
       "        -0.00600976,  0.10149387,  0.16521413,  0.14963248,  0.4300675 ,\n",
       "         0.11975985,  0.09022967,  0.13361611,  0.19211369,  0.74652804,\n",
       "         0.94527782,  0.98234132,  0.26960914,  0.64481232,  0.12290404,\n",
       "         0.47480752,  0.171123  ]),\n",
       " array([  1.01877815e+00,   4.28557838e-01,   8.10958791e-01,\n",
       "          7.14391843e-01,   1.03676723e-01,   1.52333094e-01,\n",
       "          8.80179228e-01,   1.01428183e-01,   5.02334272e-01,\n",
       "          9.69136527e-01,   9.87074854e-01,   2.56369721e-01,\n",
       "          9.76525001e-01,   9.99861850e-01,   8.99575939e-01,\n",
       "          7.59528146e-01,   1.01479914e-01,   1.46163328e-01,\n",
       "          6.34434327e-01,   7.64746036e-01,   1.27505818e-01,\n",
       "          9.00629100e-01,   8.60791980e-01,   1.33832763e-01,\n",
       "          1.06835946e-01,   8.69467163e-01,   7.79945836e-01,\n",
       "         -2.41362640e-01,   9.17985128e-01,  -7.47128399e-02,\n",
       "          7.46478279e-01,   5.67254143e-01,   1.05665138e+00,\n",
       "          6.25905115e-01,   3.35498226e-01,   3.39240188e-01,\n",
       "          7.90757628e-02,   8.74538043e-01,   1.01479914e-01,\n",
       "          3.69447574e-01,   8.91585164e-01,   1.03756260e-02,\n",
       "          3.35827880e-01,   3.65844541e-01,   7.80269363e-01,\n",
       "          2.67098149e-01,   2.83166248e-01,   2.24249887e-01,\n",
       "          8.10750672e-01,   7.25054148e-01,   5.79312566e-01,\n",
       "          1.96546265e-01,   2.62382425e-02,   1.27814157e-01,\n",
       "          4.27048177e-01,   1.80500067e-01,   7.25819560e-02,\n",
       "          1.47022266e-01,   1.00941736e-01,   9.80197334e-01,\n",
       "          7.35766214e-01,   7.14348499e-01,   7.14348499e-01,\n",
       "          1.08298167e-02,   2.60477499e-01,   5.81267023e-01,\n",
       "          6.42714338e-02,   1.47920088e-01,   9.09845014e-02,\n",
       "          7.68054358e-01,   6.69249249e-01,   7.14391843e-01,\n",
       "          1.00451104e+00,   4.39932408e-01,   1.13866522e-01,\n",
       "          1.49632477e-01,   4.70741194e-01,   6.33751762e-01,\n",
       "          9.37125614e-01,   6.56061155e-01,   4.29497598e-01,\n",
       "          1.90948259e-01,   1.49724734e-01,   8.55021074e-01,\n",
       "          8.21994709e-01,   8.00459867e-02,   8.64437782e-01,\n",
       "          1.01479914e-01,   3.00361918e-01,   3.57790488e-02,\n",
       "          7.46478279e-01,   1.92170430e-01,   8.93895694e-01,\n",
       "          3.25029048e-01,   1.39005691e-01,   1.81833340e-02,\n",
       "          9.53470931e-01,   6.53167152e-01,   1.33649658e-01,\n",
       "          6.07654163e-01,   1.66328316e-01,   2.94717014e-01,\n",
       "          7.89443959e-01,   4.25537575e-02,   1.12140248e-01,\n",
       "          6.18909934e-01,   5.71680443e-02,   6.66299355e-01,\n",
       "          1.90634719e-01,  -2.16599264e-02,   3.62920740e-01,\n",
       "          1.39012669e-01,   4.98377614e-01,   1.01479914e-01,\n",
       "          1.92462600e-01,   9.53036220e-01,   2.71459394e-01,\n",
       "          1.57735937e-02,   6.23656574e-01,   7.14499262e-01,\n",
       "          8.53875220e-01,   2.56386084e-01,   7.25652282e-01,\n",
       "          1.46797226e-01,   2.29661284e-01,   9.61308590e-02,\n",
       "          5.85377058e-01,   1.14759015e-01,   1.01696567e-01,\n",
       "          7.43321905e-01,   8.33169592e-01,   1.92163452e-01,\n",
       "          8.00040517e-02,   4.29882986e-01,   5.79312566e-01,\n",
       "          6.68337447e-01,   1.60654862e-01,   2.60560526e-01,\n",
       "          9.65090160e-01,   5.80018852e-01,   7.42017404e-01,\n",
       "          1.38074797e-01,   2.51868752e-01,   6.57679654e-01,\n",
       "          1.43789998e-01,   7.59451462e-02,   7.89326541e-01,\n",
       "          1.01407215e-01,   5.50861277e-01,   8.72980586e-01,\n",
       "          3.97746789e-01,   7.10609868e-01,   3.00013052e-01,\n",
       "          1.88646513e-01,   5.57869725e-02,   4.64085656e-01,\n",
       "          3.00094516e-01,   1.01428183e-01,   1.41441194e-01,\n",
       "          2.31709774e-01,   9.01976140e-01,   6.72332521e-01,\n",
       "          1.92163452e-01,   3.22762331e-01,   6.92919862e-02,\n",
       "          3.24109373e-01,   1.59977494e-01,   1.01428183e-01,\n",
       "          4.82033355e-02,   2.71459394e-01,   2.79914069e-01,\n",
       "          1.92171839e-01,   7.33373007e-01,   1.01696567e-01,\n",
       "          4.76623735e-02,   7.26943002e-01,   8.61158418e-01,\n",
       "          6.55193100e-01,   4.21345011e-01,   1.90634719e-01,\n",
       "          5.47656474e-02,   1.33741915e-01,   7.66986004e-01,\n",
       "         -7.06921316e-03,   2.71459394e-01,  -1.64045378e-02,\n",
       "          4.35679627e-01,   4.27976728e-01,   4.98377614e-01,\n",
       "          8.51689530e-01,   3.13462553e-01,   9.07161172e-02,\n",
       "          1.64410068e-01,   5.57869725e-02,   1.39188796e-01,\n",
       "          2.83944954e-01,   2.37190208e-01,   1.38920412e-01,\n",
       "          1.44595637e-01,   7.99178511e-01,   9.90630464e-02,\n",
       "          8.95589395e-01,   1.22937593e-01,   1.60139061e-01,\n",
       "          7.51884073e-01,   7.14432369e-01,   5.74936479e-01,\n",
       "          9.96271725e-01,   4.59490429e-01,   7.69173485e-01,\n",
       "          4.29882986e-01,   9.65721051e-02,   9.58876358e-02,\n",
       "          1.86807419e-01,   1.01428183e-01,   3.87122787e-01,\n",
       "          8.05507918e-01,   1.23038237e-01,   3.25612057e-01,\n",
       "          7.58029045e-01,   1.86661575e-01,   7.00473643e-01,\n",
       "          8.00557827e-02,   9.18938904e-01,   1.33616110e-01,\n",
       "          1.47022266e-01,   9.06682463e-01,   1.47020857e-01,\n",
       "          1.25213042e-01,   6.72332521e-01,   3.64387431e-01,\n",
       "          4.25537575e-02,   2.16588926e-01,   8.88072932e-01,\n",
       "          1.47020857e-01,   1.69788002e-01,   6.75162085e-01,\n",
       "          6.12739027e-01,   9.08346466e-01,   3.38830429e-01,\n",
       "          9.59920134e-01,   9.92643346e-02,   1.03285396e+00,\n",
       "          9.05339367e-01,   5.62044450e-01,   5.51332385e-01,\n",
       "          1.99669382e-01,   2.88927695e-01,   2.37250321e-01,\n",
       "          7.91526200e-01,   3.12126110e-01,   3.43136859e-02,\n",
       "          3.30101931e-01,   5.16812848e-01,   2.68092938e-01,\n",
       "          1.92136882e-01,   1.79158463e-01,   6.55885028e-01,\n",
       "          2.47777872e-01,   8.44286625e-01,   4.07777141e-01,\n",
       "          8.39231796e-01,   5.36028180e-01,   1.92163452e-01,\n",
       "          3.72075208e-02,   2.66930409e-01,   1.01428183e-01,\n",
       "          6.23656574e-01,   3.41642968e-02,   1.49684208e-01,\n",
       "          6.35907614e-01,   1.47020857e-01,   8.00697387e-02,\n",
       "          8.58317368e-02,   7.26560519e-01,   3.87089239e-01,\n",
       "          7.14391843e-01,   1.65700576e-01,   1.47468629e-01,\n",
       "          7.57190345e-01,   8.41705278e-01,   6.25180636e-01,\n",
       "          8.00459867e-02,   7.63542258e-01,   8.74070951e-01,\n",
       "          1.23480054e-01,   4.27797891e-01,   1.46523239e-01,\n",
       "          9.98846051e-01,   1.64662567e-01,   2.49994995e-01,\n",
       "          1.33564379e-01,   1.01428183e-01,   6.42462727e-02,\n",
       "          8.09890577e-01,  -6.80552914e-05,   7.25380195e-01]),\n",
       " array([  1.72889219e-01,   1.70294715e-02,   7.82616935e-01,\n",
       "         -8.34788848e-03,   1.47022266e-01,   3.10888595e-01,\n",
       "          7.28261340e-01,   1.01479914e-01,   4.24565622e-01,\n",
       "          1.57316587e-02,   4.37708069e-01,   1.44204264e-02,\n",
       "          9.07678482e-02,   4.33913871e-01,   8.26537251e-01,\n",
       "          8.45262338e-01,   5.42776171e-01,   1.01763663e-01,\n",
       "          6.70148479e-01,   1.92163452e-01,   6.39359534e-02,\n",
       "          7.62650655e-01,   3.10124701e-02,   5.90024631e-01,\n",
       "          8.31356231e-01,   2.78648916e-01,   1.08309653e-01,\n",
       "          3.04531238e-01,   1.50864127e-01,   1.38986099e-01,\n",
       "          1.36219795e-01,   2.51197915e-01,   2.02625887e-01,\n",
       "          9.72357134e-01,   1.12191979e-01,   1.92169054e-01,\n",
       "          1.50211875e-01,  -2.14264992e-02,   4.52451020e-01,\n",
       "          4.38789988e-01,   6.04820088e-01,   7.89326541e-01,\n",
       "          8.00459867e-02,   2.10435721e-01,   5.70885269e-01,\n",
       "          5.70841743e-02,   1.44342132e-01,   1.00451104e+00,\n",
       "          6.42312317e-01,   8.51755703e-02,   7.33373007e-01,\n",
       "          3.09602117e-01,   1.49684208e-01,   3.22228832e-01,\n",
       "          1.01595923e-01,   6.50604478e-01,   1.01479914e-01,\n",
       "          8.45026241e-01,   1.38791822e-01,   7.14365273e-01,\n",
       "          7.68287651e-01,   1.84938938e-01,   1.01479914e-01,\n",
       "          6.54218524e-01,   2.93878313e-01,   2.96413137e-01,\n",
       "          1.92833539e-01,   8.27498735e-02,   3.28441263e-01,\n",
       "          5.87658439e-02,   1.02674988e-01,   1.42090676e-01,\n",
       "          2.83166248e-01,   1.01520440e-01,   2.10876914e-02,\n",
       "          9.01930011e-01,   6.80182444e-01,   3.63633521e-01,\n",
       "          4.29834748e-02,   2.51030051e-01,   2.71459394e-01,\n",
       "          1.55080767e-01,   1.20174297e-01,   6.76615822e-01,\n",
       "          5.21604336e-01,   2.74876851e-01,   7.14261845e-01,\n",
       "          4.63722197e-01,   1.43882255e-01,  -3.38493769e-02,\n",
       "          5.08333972e-02,   2.88240761e-01,   4.71949096e-03,\n",
       "          1.48920991e-01,   1.55073789e-01,   9.65241409e-01,\n",
       "          3.61956120e-01,   8.01212426e-01,   8.51755703e-02,\n",
       "          1.63090365e-01,   2.58489938e-01,   1.38385623e-01,\n",
       "          1.57316587e-02,   7.14397446e-01,   2.98282232e-01,\n",
       "          2.65779163e-02,   9.41922468e-01,   3.92478820e-01,\n",
       "          7.25879907e-01,   2.08234335e-01,   7.05625434e-02,\n",
       "          2.03820545e-01,   6.98106244e-01,   3.54986591e-01,\n",
       "          9.42312534e-01,   1.08182230e-01,   1.01115214e+00,\n",
       "          4.29882986e-01,   2.72580965e-01,   9.55913060e-02,\n",
       "          1.38553363e-01,   1.49766670e-01,   8.76445205e-01,\n",
       "          7.95521275e-01,   1.89563479e-01,   7.47402760e-02,\n",
       "          9.05943831e-01,   1.19035222e-01,   2.34961953e-01,\n",
       "          1.49265429e-01,   3.84688624e-01,   1.44070963e-01,\n",
       "          6.51000458e-01,   7.14396037e-01,   2.37161612e-01,\n",
       "          5.98123216e-01,   8.84762775e-01,   2.34195832e-01,\n",
       "          2.71459394e-01,   2.93878313e-01,   2.93878313e-01,\n",
       "          9.60495497e-02,   4.82543535e-01,   2.74738708e-01,\n",
       "          1.01479914e-01,   1.01479914e-01,   4.28725578e-01,\n",
       "          3.27845711e-01,   8.83507841e-01,   7.85083053e-02,\n",
       "          8.54020195e-02,   1.53868294e-01,   1.25458500e-01,\n",
       "          7.78614476e-01,   4.27536886e-01,   1.76095354e-01,\n",
       "          8.78367308e-01,   2.23270579e-01,   7.41615725e-02,\n",
       "          1.28260077e-01,   6.34105869e-01,   3.76826088e-01,\n",
       "          1.01513462e-01,   3.21161697e-01,   6.92919862e-02,\n",
       "          9.05219168e-01,   9.92643346e-02,   3.21100762e-02,\n",
       "          1.89869119e-01,   8.47257439e-01,   1.65792833e-01,\n",
       "          7.70032759e-01,   4.70822280e-01,   7.01001762e-01,\n",
       "          1.45018183e-01,   7.98992141e-02,   1.22365867e-01,\n",
       "         -5.62678525e-03,   6.34840292e-01,   1.47022266e-01,\n",
       "          6.21554022e-01,   1.55089154e-01,   1.92163452e-01,\n",
       "          7.45360827e-01,   1.92167645e-01,   8.15272492e-01,\n",
       "          7.49589740e-01,   9.59168970e-01,   4.23369546e-01,\n",
       "          6.56067455e-02,   1.17831761e-01,   1.17764665e-01,\n",
       "          6.77402825e-01,   1.31033823e-01,   2.11184136e-01,\n",
       "          3.61128670e-01,   1.92163452e-01,   3.27009298e-01,\n",
       "          2.80865752e-01,   4.73809464e-01,   1.17548012e-01,\n",
       "          2.08181789e-01,   8.39842956e-01,   6.07376016e-01,\n",
       "          1.36308792e-01,   5.71394060e-01,   2.34961953e-01,\n",
       "          7.32664113e-01,   4.58929866e-01,   2.99802486e-01,\n",
       "          1.07144857e-01,   8.54523415e-02,   3.79873628e-01,\n",
       "          6.77309159e-01,   2.08181789e-01,   8.74780819e-01,\n",
       "          1.12194764e-01,   3.71105893e-02,   2.30444621e-01,\n",
       "          5.78112549e-01,   8.80381008e-02,   4.38789988e-01,\n",
       "          6.50478673e-01,   2.52145211e-01,   2.16244600e-02,\n",
       "          7.72356638e-02,   7.64956968e-01,   1.06578734e-01,\n",
       "          3.85229660e-01,   6.33022282e-01,   6.89918839e-02,\n",
       "          1.92431836e-01,   8.51755703e-02,   4.59963761e-01,\n",
       "          1.92163452e-01,   7.52074841e-01,   6.94810438e-01,\n",
       "          3.74543331e-01,   1.47020857e-01,   1.28274033e-01,\n",
       "          1.54904640e-01,   8.83372143e-01,   1.38714930e-01,\n",
       "          1.01428183e-01,   6.37514393e-02,   4.74143535e-01,\n",
       "          1.44318380e-01,   3.32209243e-01,   9.85223737e-01,\n",
       "          1.12472244e-01,   1.60139061e-01,   2.66114644e-02,\n",
       "         -2.41362640e-01,   1.09304997e-01,   2.65882719e-01,\n",
       "          9.34799595e-01,   6.65962224e-02,  -1.44857067e-01,\n",
       "          7.32175244e-01,   1.01756702e+00,   6.57625381e-01,\n",
       "          6.82274953e-01,   7.78507074e-01,   3.06694232e-01,\n",
       "          7.03120381e-01,   1.47020857e-01,  -5.35194672e-02,\n",
       "          2.63450207e-01,   8.45198988e-01,   2.80865752e-01,\n",
       "          2.88522280e-01,   7.14342083e-01,   7.98068552e-01,\n",
       "          4.05781543e-01,   1.00941736e-01,   1.92789366e-01,\n",
       "          1.12191979e-01,   8.05473642e-01,   4.10332423e-01,\n",
       "         -6.55145848e-04,   7.89310178e-01,   7.38879084e-01,\n",
       "          1.43673989e-01,   1.49684208e-01,   1.01479914e-01,\n",
       "          8.33962978e-01,   8.06527571e-01,   7.46997500e-02,\n",
       "          6.54965242e-01,   2.67936850e-01,   1.17831761e-01,\n",
       "          6.75775470e-01,   2.72454182e-01,   9.99158265e-01,\n",
       "          5.87835137e-01,   4.84754956e-01,   1.70739321e-01])]"
      ]
     },
     "execution_count": 66,
     "metadata": {},
     "output_type": "execute_result"
    }
   ],
   "source": [
    "predictions[:3]"
   ]
  },
  {
   "cell_type": "code",
   "execution_count": 67,
   "metadata": {},
   "outputs": [
    {
     "data": {
      "text/plain": [
       "array([ 0.,  1.,  1.])"
      ]
     },
     "execution_count": 67,
     "metadata": {},
     "output_type": "execute_result"
    }
   ],
   "source": [
    "predictions_new[:3]"
   ]
  },
  {
   "cell_type": "code",
   "execution_count": 68,
   "metadata": {},
   "outputs": [
    {
     "name": "stdout",
     "output_type": "stream",
     "text": [
      "0.787878787879\n"
     ]
    }
   ],
   "source": [
    "from sklearn import cross_validation\n",
    "from sklearn.linear_model import LogisticRegression\n",
    "alg=LogisticRegression(random_state=1)\n",
    "scores=cross_validation.cross_val_score(alg,df_train[predictors],df_train['Survived'],cv=3)\n",
    "print(scores.mean())"
   ]
  },
  {
   "cell_type": "code",
   "execution_count": 69,
   "metadata": {},
   "outputs": [
    {
     "name": "stdout",
     "output_type": "stream",
     "text": [
      "0.374682056691\n"
     ]
    }
   ],
   "source": [
    "from sklearn import cross_validation\n",
    "from sklearn.linear_model import LinearRegression\n",
    "alg=LinearRegression()\n",
    "scores=cross_validation.cross_val_score(alg,df_train[predictors],df_train['Survived'],cv=3)\n",
    "print(scores.mean())"
   ]
  },
  {
   "cell_type": "code",
   "execution_count": 103,
   "metadata": {},
   "outputs": [
    {
     "name": "stdout",
     "output_type": "stream",
     "text": [
      "0.828282828283\n"
     ]
    }
   ],
   "source": [
    "from sklearn import cross_validation\n",
    "from sklearn.ensemble import RandomForestClassifier\n",
    "predictors=['Pclass','Sex','Age','SibSp','Parch','Fare','Embarked']\n",
    "alg=RandomForestClassifier(random_state=1,n_estimators=40,min_samples_split=9,min_samples_leaf=2)\n",
    "kf=cross_validation.KFold(df_train.shape[0],n_folds=3,random_state=1)\n",
    "scores=cross_validation.cross_val_score(alg,df_train[predictors],df_train['Survived'],cv=kf)\n",
    "print(scores.mean())"
   ]
  },
  {
   "cell_type": "code",
   "execution_count": 102,
   "metadata": {},
   "outputs": [
    {
     "name": "stdout",
     "output_type": "stream",
     "text": [
      "parameters:\n",
      "{'min_samples_leaf': [1, 2, 3, 4, 5, 6, 7, 8, 9],\n",
      " 'min_samples_split': [2, 3, 4, 5, 6, 7, 8, 9],\n",
      " 'n_estimators': [30, 40, 50]}\n",
      "Best score: 0.828\n",
      "Best parameters set:\n",
      "\tmin_samples_leaf: 2\n",
      "\tmin_samples_split: 9\n",
      "\tn_estimators: 40\n"
     ]
    }
   ],
   "source": [
    "from sklearn.grid_search import GridSearchCV\n",
    "from pprint import pprint\n",
    "seed=1\n",
    "clf=RandomForestClassifier(random_state=seed)\n",
    "parameters = {'n_estimators': [10*x for x in xrange(3,6)], 'min_samples_split':[x for x in xrange(8,10)],'min_samples_leaf':[x for x in xrange(1,5)]}\n",
    "kf=cross_validation.KFold(df_train.shape[0],n_folds=3,random_state=1)\n",
    "# grid_search = GridSearchCV(estimator=clf,param_grid=parameters, cv=10, scoring='accuracy')\n",
    "grid_search = GridSearchCV(estimator=clf,param_grid=parameters, cv=kf, scoring='accuracy')\n",
    "print(\"parameters:\")\n",
    "pprint(parameters)\n",
    "grid_search.fit(df_train[predictors],df_train['Survived'])\n",
    "print(\"Best score: %0.3f\" % grid_search.best_score_)\n",
    "print(\"Best parameters set:\")\n",
    "best_parameters=grid_search.best_estimator_.get_params()\n",
    "for param_name in sorted(parameters.keys()):\n",
    "    print(\"\\t%s: %r\" % (param_name, best_parameters[param_name]))"
   ]
  },
  {
   "cell_type": "code",
   "execution_count": 98,
   "metadata": {},
   "outputs": [
    {
     "data": {
      "text/plain": [
       "[2, 5, 8]"
      ]
     },
     "execution_count": 98,
     "metadata": {},
     "output_type": "execute_result"
    }
   ],
   "source": [
    "[x for x in xrange(2,10,3)]"
   ]
  },
  {
   "cell_type": "code",
   "execution_count": 95,
   "metadata": {},
   "outputs": [
    {
     "data": {
      "text/plain": [
       "[0, 1, 2, 3, 4]"
      ]
     },
     "execution_count": 95,
     "metadata": {},
     "output_type": "execute_result"
    }
   ],
   "source": [
    "[x for x in range(5)]"
   ]
  },
  {
   "cell_type": "code",
   "execution_count": 71,
   "metadata": {},
   "outputs": [],
   "source": [
    "df_train['FamilySize']=df_train['SibSp'] + df_train['Parch']\n",
    "df_train['NameLength']=df_train['Name'].apply(lambda x:len(x))"
   ]
  },
  {
   "cell_type": "code",
   "execution_count": 72,
   "metadata": {},
   "outputs": [
    {
     "name": "stdout",
     "output_type": "stream",
     "text": [
      "Mr          517\n",
      "Miss        182\n",
      "Mrs         125\n",
      "Master       40\n",
      "Dr            7\n",
      "Rev           6\n",
      "Col           2\n",
      "Major         2\n",
      "Mlle          2\n",
      "Countess      1\n",
      "Ms            1\n",
      "Lady          1\n",
      "Jonkheer      1\n",
      "Don           1\n",
      "Mme           1\n",
      "Capt          1\n",
      "Sir           1\n",
      "Name: Name, dtype: int64\n"
     ]
    }
   ],
   "source": [
    "import re\n",
    "def getTitle(Name):\n",
    "    title_search=re.search(' ([A-Za-z]+)\\.',Name)\n",
    "    if title_search:\n",
    "        return title_search.group(1)\n",
    "    return \"\"\n",
    "titles=df_train['Name'].apply(getTitle)\n",
    "print(pd.value_counts(titles))"
   ]
  },
  {
   "cell_type": "code",
   "execution_count": 73,
   "metadata": {},
   "outputs": [
    {
     "name": "stdout",
     "output_type": "stream",
     "text": [
      "1     517\n",
      "2     182\n",
      "3     125\n",
      "4      40\n",
      "5       7\n",
      "6       6\n",
      "8       2\n",
      "7       2\n",
      "9       2\n",
      "16      1\n",
      "10      1\n",
      "11      1\n",
      "12      1\n",
      "13      1\n",
      "14      1\n",
      "15      1\n",
      "17      1\n",
      "Name: Name, dtype: int64\n"
     ]
    }
   ],
   "source": [
    "title_mapping={\n",
    "\"Mr\":1,\n",
    "\"Miss\":2,\n",
    "\"Mrs\":3,\n",
    "\"Master\":4,\n",
    "\"Dr\":5,\n",
    "\"Rev\":6,\n",
    "\"Col\":7,\n",
    "\"Major\":8,\n",
    "\"Mlle\":9,\n",
    "\"Countess\":10,\n",
    "\"Ms\":11,\n",
    "\"Lady\":12,\n",
    "\"Jonkheer\":13,\n",
    "\"Don\":14,\n",
    "\"Mme\":15,\n",
    "\"Capt\":16,\n",
    "\"Sir\":17,\n",
    "}\n",
    "for k, v in title_mapping.items():\n",
    "    titles[titles==k]=v\n",
    "print(pd.value_counts(titles))"
   ]
  },
  {
   "cell_type": "code",
   "execution_count": 74,
   "metadata": {},
   "outputs": [],
   "source": [
    "df_train['Title']=titles\n"
   ]
  },
  {
   "cell_type": "code",
   "execution_count": 75,
   "metadata": {},
   "outputs": [
    {
     "data": {
      "image/png": "[encoded data removed]",
      "text/plain": [
       "<matplotlib.figure.Figure at 0x10a5a3910>"
      ]
     },
     "metadata": {},
     "output_type": "display_data"
    }
   ],
   "source": [
    "import numpy as np\n",
    "from sklearn.feature_selection import SelectKBest, f_classif\n",
    "import matplotlib.pyplot as plt\n",
    "%matplotlib inline\n",
    "\n",
    "predictors=['Pclass','Sex','Age','SibSp','Parch','Fare','Embarked','Title','NameLength','FamilySize']\n",
    "\n",
    "selector=SelectKBest(f_classif,k=5)\n",
    "selector.fit(df_train[predictors],df_train['Survived'])\n",
    "\n",
    "scores=-np.log10(selector.pvalues_)\n",
    "\n",
    "plt.bar(range(len(predictors)),scores)\n",
    "plt.xticks(range(len(predictors)),predictors,rotation='vertical')\n",
    "plt.show()\n"
   ]
  },
  {
   "cell_type": "code",
   "execution_count": 76,
   "metadata": {},
   "outputs": [
    {
     "name": "stdout",
     "output_type": "stream",
     "text": [
      "0.818181818182\n"
     ]
    }
   ],
   "source": [
    "predictors=['Pclass','Sex','Fare','Title']\n",
    "alg=RandomForestClassifier(random_state=1,n_estimators=50,min_samples_split=8,min_samples_leaf=4)\n",
    "kf=cross_validation.KFold(df_train.shape[0],n_folds=3,random_state=1)\n",
    "scores=cross_validation.cross_val_score(alg,df_train[predictors],df_train['Survived'],cv=kf)\n",
    "print(scores.mean())"
   ]
  },
  {
   "cell_type": "code",
   "execution_count": 81,
   "metadata": {},
   "outputs": [
    {
     "name": "stdout",
     "output_type": "stream",
     "text": [
      "0.261503928171\n"
     ]
    }
   ],
   "source": [
    "from sklearn.ensemble import GradientBoostingClassifier\n",
    "import numpy as np\n",
    "\n",
    "algorithms=[\n",
    "    [\n",
    "        GradientBoostingClassifier(random_state=1,n_estimators=25,max_depth=3),\n",
    "        ['Pclass','Sex','Age','SibSp','Parch','Fare','Embarked','Title','NameLength','FamilySize']\n",
    "    ],\n",
    "    [\n",
    "        LogisticRegression(random_state=1),\n",
    "        ['Pclass','Sex','Age','SibSp','Parch','Fare','Embarked']\n",
    "    ],\n",
    "    [\n",
    "        RandomForestClassifier(random_state=1,n_estimators=50,min_samples_split=8,min_samples_leaf=4),\n",
    "        ['Pclass','Sex','Age','SibSp','Parch','Fare','Embarked','Title','NameLength','FamilySize']\n",
    "    ],\n",
    "]\n",
    "\n",
    "kf=KFold(df_train.shape[0],n_folds=3,random_state=1)\n",
    "\n",
    "predictions=[]\n",
    "for train, test in kf:\n",
    "    train_target=df_train['Survived'].iloc[train]\n",
    "    full_test_predictions=[]\n",
    "    for alg, predictors in algorithms:\n",
    "        alg.fit(df_train[predictors].iloc[train,:],train_target)\n",
    "        test_predictions=alg.predict_proba(df_train[predictors].iloc[test,:].astype(float))[:,1]\n",
    "        full_test_predictions.append(test_predictions)\n",
    "#     test_predictions=(full_test_predictions[0]*3+full_test_predictions[2]*1)/4\n",
    "    test_predictions=full_test_predictions[1]*1.0\n",
    "    test_predictions[test_predictions<=0.5]=0\n",
    "    test_predictions[test_predictions>0.5]=1\n",
    "    predictions.append(test_predictions)\n",
    "\n",
    "predictions_new=np.concatenate(predictions,axis=0)\n",
    "accuracy=sum(predictions_new[predictions_new==df_train['Survived']])/ len(predictions_new)\n",
    "print accuracy                                    "
   ]
  },
  {
   "cell_type": "code",
   "execution_count": null,
   "metadata": {},
   "outputs": [],
   "source": [
    "from sklearn.grid_search import GridSearchCV\n",
    "from pprint import pprint\n",
    "seed=1\n",
    "\n",
    "algorithms=[\n",
    "    [\n",
    "        GradientBoostingClassifier(random_state=1,n_estimators=25,max_depth=3),\n",
    "        ['Pclass','Sex','Age','SibSp','Parch','Fare','Embarked','Title','NameLength','FamilySize']\n",
    "    ],\n",
    "    [\n",
    "        LogisticRegression(random_state=1),\n",
    "        ['Pclass','Sex','Age','SibSp','Parch','Fare','Embarked']\n",
    "    ],\n",
    "    [\n",
    "        RandomForestClassifier(random_state=1,n_estimators=50,min_samples_split=8,min_samples_leaf=4),\n",
    "        ['Pclass','Sex','Age','SibSp','Parch','Fare','Embarked','Title','NameLength','FamilySize']\n",
    "    ],\n",
    "]\n",
    "\n",
    "for alg, predictors in algorithms:\n",
    "\n",
    "clf=RandomForestClassifier(random_state=seed)\n",
    "parameters = {'n_estimators': [10*x for x in xrange(3,6)], 'min_samples_split':[x for x in xrange(8,10)],'min_samples_leaf':[x for x in xrange(1,5)]}\n",
    "kf=cross_validation.KFold(df_train.shape[0],n_folds=3,random_state=1)\n",
    "# grid_search = GridSearchCV(estimator=clf,param_grid=parameters, cv=10, scoring='accuracy')\n",
    "grid_search = GridSearchCV(estimator=clf,param_grid=parameters, cv=kf, scoring='accuracy')\n",
    "print(\"parameters:\")\n",
    "pprint(parameters)\n",
    "grid_search.fit(df_train[predictors],df_train['Survived'])\n",
    "print(\"Best score: %0.3f\" % grid_search.best_score_)\n",
    "print(\"Best parameters set:\")\n",
    "best_parameters=grid_search.best_estimator_.get_params()\n",
    "for param_name in sorted(parameters.keys()):\n",
    "    print(\"\\t%s: %r\" % (param_name, best_parameters[param_name]))"
   ]
  }
 ],
 "metadata": {
  "kernelspec": {
   "display_name": "Python 2",
   "language": "python",
   "name": "python2"
  },
  "language_info": {
   "codemirror_mode": {
    "name": "ipython",
    "version": 2
   },
   "file_extension": ".py",
   "mimetype": "text/x-python",
   "name": "python",
   "nbconvert_exporter": "python",
   "pygments_lexer": "ipython2",
   "version": "2.7.10"
  }
 },
 "nbformat": 4,
 "nbformat_minor": 2
}
